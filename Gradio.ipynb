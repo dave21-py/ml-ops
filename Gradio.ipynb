{
  "nbformat": 4,
  "nbformat_minor": 0,
  "metadata": {
    "colab": {
      "provenance": [],
      "authorship_tag": "ABX9TyOd7b4t/f12OZCP1DYNiGiE",
      "include_colab_link": true
    },
    "kernelspec": {
      "name": "python3",
      "display_name": "Python 3"
    },
    "language_info": {
      "name": "python"
    }
  },
  "cells": [
    {
      "cell_type": "markdown",
      "metadata": {
        "id": "view-in-github",
        "colab_type": "text"
      },
      "source": [
        "<a href=\"https://colab.research.google.com/github/dave21-py/sentiment-analysis-model/blob/main/Gradio.ipynb\" target=\"_parent\"><img src=\"https://colab.research.google.com/assets/colab-badge.svg\" alt=\"Open In Colab\"/></a>"
      ]
    },
    {
      "cell_type": "code",
      "execution_count": null,
      "metadata": {
        "id": "iwKRWCWesXfB"
      },
      "outputs": [],
      "source": [
        "!pip install transformers\n",
        "!pip install gradio"
      ]
    },
    {
      "cell_type": "code",
      "source": [
        "import gradio as gr\n",
        "from transformers import pipeline"
      ],
      "metadata": {
        "id": "r3uJwwgosbuf"
      },
      "execution_count": null,
      "outputs": []
    },
    {
      "cell_type": "code",
      "source": [
        "sentiment_analyzer = pipeline('sentiment-analysis')"
      ],
      "metadata": {
        "id": "IA9O3Oh_szpN"
      },
      "execution_count": null,
      "outputs": []
    },
    {
      "cell_type": "code",
      "source": [
        "def analyze_sentiment(text):\n",
        "  result = sentiment_analyzer(text)[0]\n",
        "  return {result['label']: result['score']}"
      ],
      "metadata": {
        "id": "Jaeu6SDPuFo6"
      },
      "execution_count": null,
      "outputs": []
    },
    {
      "cell_type": "code",
      "source": [
        "iface = gr.Interface(\n",
        "    fn = analyze_sentiment,\n",
        "    inputs = gr.Textbox(lines = 2, placeholder = 'Enter your sentence here...'),\n",
        "    outputs = \"label\",\n",
        "    title = \"Sentiment Analysis bot\",\n",
        "    description = \"Type in a sentence and see if the model thinks it's POSITIVE or NEGATIVE. Built with Gradio and Hugging Face Transformers.\"\n",
        ")"
      ],
      "metadata": {
        "id": "iqEQZIfHuaGX"
      },
      "execution_count": null,
      "outputs": []
    },
    {
      "cell_type": "code",
      "source": [
        "iface.launch()"
      ],
      "metadata": {
        "id": "FyblYotTu-Ek"
      },
      "execution_count": null,
      "outputs": []
    },
    {
      "cell_type": "code",
      "source": [],
      "metadata": {
        "id": "mqlbJQuvvCho"
      },
      "execution_count": null,
      "outputs": []
    }
  ]
}